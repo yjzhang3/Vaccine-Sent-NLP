{
  "nbformat": 4,
  "nbformat_minor": 0,
  "metadata": {
    "colab": {
      "name": "NLP.ipynb",
      "provenance": [],
      "collapsed_sections": []
    },
    "kernelspec": {
      "name": "python3",
      "display_name": "Python 3"
    },
    "language_info": {
      "name": "python"
    }
  },
  "cells": [
    {
      "cell_type": "code",
      "metadata": {
        "id": "uTKI1T7LJszn"
      },
      "source": [
        "LINKS = []\n",
        "HASH_TAGS = []\n",
        "\n",
        "WORDS = []"
      ],
      "execution_count": null,
      "outputs": []
    },
    {
      "cell_type": "code",
      "metadata": {
        "id": "DpCCbeCJFtNW"
      },
      "source": [
        "import pandas as pd\n",
        "import numpy as np\n"
      ],
      "execution_count": null,
      "outputs": []
    },
    {
      "cell_type": "code",
      "metadata": {
        "colab": {
          "base_uri": "https://localhost:8080/",
          "height": 638
        },
        "id": "gknUGh5CGOs3",
        "outputId": "60b252c5-c886-4b30-bad7-83dc4871822a"
      },
      "source": [
        "df= pd.read_csv(\"/content/replies.csv\")\n",
        "df"
      ],
      "execution_count": null,
      "outputs": [
        {
          "output_type": "execute_result",
          "data": {
            "text/html": [
              "<div>\n",
              "<style scoped>\n",
              "    .dataframe tbody tr th:only-of-type {\n",
              "        vertical-align: middle;\n",
              "    }\n",
              "\n",
              "    .dataframe tbody tr th {\n",
              "        vertical-align: top;\n",
              "    }\n",
              "\n",
              "    .dataframe thead th {\n",
              "        text-align: right;\n",
              "    }\n",
              "</style>\n",
              "<table border=\"1\" class=\"dataframe\">\n",
              "  <thead>\n",
              "    <tr style=\"text-align: right;\">\n",
              "      <th></th>\n",
              "      <th>user</th>\n",
              "      <th>text</th>\n",
              "    </tr>\n",
              "  </thead>\n",
              "  <tbody>\n",
              "    <tr>\n",
              "      <th>0</th>\n",
              "      <td>brian44182533</td>\n",
              "      <td>@nytimes Who’s money is funding these lotterie...</td>\n",
              "    </tr>\n",
              "    <tr>\n",
              "      <th>1</th>\n",
              "      <td>OfAnders121</td>\n",
              "      <td>@nytimes https://t.co/QXv6xlBN15</td>\n",
              "    </tr>\n",
              "    <tr>\n",
              "      <th>2</th>\n",
              "      <td>ToddLytle</td>\n",
              "      <td>@nytimes Must be nice</td>\n",
              "    </tr>\n",
              "    <tr>\n",
              "      <th>3</th>\n",
              "      <td>ktmacg79</td>\n",
              "      <td>@nytimes ❤️</td>\n",
              "    </tr>\n",
              "    <tr>\n",
              "      <th>4</th>\n",
              "      <td>sinjitunohanasi</td>\n",
              "      <td>@nytimes https://t.co/a6PAx0NRCM</td>\n",
              "    </tr>\n",
              "    <tr>\n",
              "      <th>5</th>\n",
              "      <td>MissFarai</td>\n",
              "      <td>@nytimes This is nothing to be proud of. Imagi...</td>\n",
              "    </tr>\n",
              "    <tr>\n",
              "      <th>6</th>\n",
              "      <td>Ah_ma_rah</td>\n",
              "      <td>@nytimes CAN A CHURCH GIRL BE SEXY AND HIGH FA...</td>\n",
              "    </tr>\n",
              "    <tr>\n",
              "      <th>7</th>\n",
              "      <td>bfordski</td>\n",
              "      <td>@nytimes @chischisschissy why is this a thing</td>\n",
              "    </tr>\n",
              "    <tr>\n",
              "      <th>8</th>\n",
              "      <td>kolyk</td>\n",
              "      <td>@nytimes @th_alys</td>\n",
              "    </tr>\n",
              "    <tr>\n",
              "      <th>9</th>\n",
              "      <td>JoanneC32564892</td>\n",
              "      <td>@nytimes For me, I will hang up off the phone ...</td>\n",
              "    </tr>\n",
              "    <tr>\n",
              "      <th>10</th>\n",
              "      <td>Jeremiah_37</td>\n",
              "      <td>@nytimes Good thing she didn't think that abou...</td>\n",
              "    </tr>\n",
              "    <tr>\n",
              "      <th>11</th>\n",
              "      <td>Autarkh</td>\n",
              "      <td>@nytimes @donmoyn Love it. And it's already sh...</td>\n",
              "    </tr>\n",
              "    <tr>\n",
              "      <th>12</th>\n",
              "      <td>AliMandela9</td>\n",
              "      <td>@nytimes Only one winner, it's cool but I woul...</td>\n",
              "    </tr>\n",
              "    <tr>\n",
              "      <th>13</th>\n",
              "      <td>kids_lance</td>\n",
              "      <td>@nytimes A vaccine lottery. Twisted.</td>\n",
              "    </tr>\n",
              "    <tr>\n",
              "      <th>14</th>\n",
              "      <td>groverthompson</td>\n",
              "      <td>@nytimes Good for her, spend and invest wisely.</td>\n",
              "    </tr>\n",
              "    <tr>\n",
              "      <th>15</th>\n",
              "      <td>jonNYC5yve</td>\n",
              "      <td>@nytimes Absurd</td>\n",
              "    </tr>\n",
              "    <tr>\n",
              "      <th>16</th>\n",
              "      <td>XXFutureXY</td>\n",
              "      <td>@nytimes https://t.co/KMjN8QwYVk</td>\n",
              "    </tr>\n",
              "    <tr>\n",
              "      <th>17</th>\n",
              "      <td>netzardfan</td>\n",
              "      <td>@nytimes Youth is wasted on the young.</td>\n",
              "    </tr>\n",
              "    <tr>\n",
              "      <th>18</th>\n",
              "      <td>RahafAl35049062</td>\n",
              "      <td>@nytimes #SaveSheikhJarrah  #SaveSilwan  #Isra...</td>\n",
              "    </tr>\n",
              "  </tbody>\n",
              "</table>\n",
              "</div>"
            ],
            "text/plain": [
              "               user                                               text\n",
              "0     brian44182533  @nytimes Who’s money is funding these lotterie...\n",
              "1       OfAnders121                   @nytimes https://t.co/QXv6xlBN15\n",
              "2         ToddLytle                              @nytimes Must be nice\n",
              "3          ktmacg79                                        @nytimes ❤️\n",
              "4   sinjitunohanasi                   @nytimes https://t.co/a6PAx0NRCM\n",
              "5         MissFarai  @nytimes This is nothing to be proud of. Imagi...\n",
              "6         Ah_ma_rah  @nytimes CAN A CHURCH GIRL BE SEXY AND HIGH FA...\n",
              "7          bfordski      @nytimes @chischisschissy why is this a thing\n",
              "8             kolyk                                  @nytimes @th_alys\n",
              "9   JoanneC32564892  @nytimes For me, I will hang up off the phone ...\n",
              "10      Jeremiah_37  @nytimes Good thing she didn't think that abou...\n",
              "11          Autarkh  @nytimes @donmoyn Love it. And it's already sh...\n",
              "12      AliMandela9  @nytimes Only one winner, it's cool but I woul...\n",
              "13       kids_lance               @nytimes A vaccine lottery. Twisted.\n",
              "14   groverthompson    @nytimes Good for her, spend and invest wisely.\n",
              "15       jonNYC5yve                                    @nytimes Absurd\n",
              "16       XXFutureXY                   @nytimes https://t.co/KMjN8QwYVk\n",
              "17       netzardfan             @nytimes Youth is wasted on the young.\n",
              "18  RahafAl35049062  @nytimes #SaveSheikhJarrah  #SaveSilwan  #Isra..."
            ]
          },
          "metadata": {
            "tags": []
          },
          "execution_count": 3
        }
      ]
    },
    {
      "cell_type": "code",
      "metadata": {
        "id": "BeDACMN6HIuq"
      },
      "source": [
        "df['no_of_mentions'] = df['text'].str.count(\"@\")\n"
      ],
      "execution_count": null,
      "outputs": []
    },
    {
      "cell_type": "code",
      "metadata": {
        "colab": {
          "base_uri": "https://localhost:8080/",
          "height": 35
        },
        "id": "jRozsb6HEmOu",
        "outputId": "1f015c8c-7228-4a43-a8bb-84579c89966f"
      },
      "source": [
        "sample = df.loc[0,'text']\n",
        "sample"
      ],
      "execution_count": null,
      "outputs": [
        {
          "output_type": "execute_result",
          "data": {
            "application/vnd.google.colaboratory.intrinsic+json": {
              "type": "string"
            },
            "text/plain": [
              "'@nytimes Who’s money is funding these lotteries? And do they agree with where their money is being spent??'"
            ]
          },
          "metadata": {
            "tags": []
          },
          "execution_count": 5
        }
      ]
    },
    {
      "cell_type": "code",
      "metadata": {
        "colab": {
          "base_uri": "https://localhost:8080/",
          "height": 35
        },
        "id": "r1oXzsQnFcxX",
        "outputId": "698a2c53-cbba-4bbc-caa6-8055d3bccedf"
      },
      "source": [
        "sample[sample.find(\"@\"):sample.find(\" \")+1]"
      ],
      "execution_count": null,
      "outputs": [
        {
          "output_type": "execute_result",
          "data": {
            "application/vnd.google.colaboratory.intrinsic+json": {
              "type": "string"
            },
            "text/plain": [
              "'@nytimes '"
            ]
          },
          "metadata": {
            "tags": []
          },
          "execution_count": 6
        }
      ]
    },
    {
      "cell_type": "code",
      "metadata": {
        "colab": {
          "base_uri": "https://localhost:8080/",
          "height": 35
        },
        "id": "SfwPp_B_SZAQ",
        "outputId": "7db1f67c-2f71-4b0d-c1c4-95f2d862bddb"
      },
      "source": [
        "sample[sample.find(\" \")+1: ]"
      ],
      "execution_count": null,
      "outputs": [
        {
          "output_type": "execute_result",
          "data": {
            "application/vnd.google.colaboratory.intrinsic+json": {
              "type": "string"
            },
            "text/plain": [
              "'Who’s money is funding these lotteries? And do they agree with where their money is being spent??'"
            ]
          },
          "metadata": {
            "tags": []
          },
          "execution_count": 7
        }
      ]
    },
    {
      "cell_type": "code",
      "metadata": {
        "colab": {
          "base_uri": "https://localhost:8080/",
          "height": 792
        },
        "id": "9CzZA-HREafB",
        "outputId": "4e442044-9a92-4c69-d957-7fd4a946dd8a"
      },
      "source": [
        "df['tags_removed'] = df['text'].apply(lambda x : x[x.find(\" \")+1: ]+\" \" )\n",
        "df"
      ],
      "execution_count": null,
      "outputs": [
        {
          "output_type": "execute_result",
          "data": {
            "text/html": [
              "<div>\n",
              "<style scoped>\n",
              "    .dataframe tbody tr th:only-of-type {\n",
              "        vertical-align: middle;\n",
              "    }\n",
              "\n",
              "    .dataframe tbody tr th {\n",
              "        vertical-align: top;\n",
              "    }\n",
              "\n",
              "    .dataframe thead th {\n",
              "        text-align: right;\n",
              "    }\n",
              "</style>\n",
              "<table border=\"1\" class=\"dataframe\">\n",
              "  <thead>\n",
              "    <tr style=\"text-align: right;\">\n",
              "      <th></th>\n",
              "      <th>user</th>\n",
              "      <th>text</th>\n",
              "      <th>no_of_mentions</th>\n",
              "      <th>tags_removed</th>\n",
              "    </tr>\n",
              "  </thead>\n",
              "  <tbody>\n",
              "    <tr>\n",
              "      <th>0</th>\n",
              "      <td>brian44182533</td>\n",
              "      <td>@nytimes Who’s money is funding these lotterie...</td>\n",
              "      <td>1</td>\n",
              "      <td>Who’s money is funding these lotteries? And do...</td>\n",
              "    </tr>\n",
              "    <tr>\n",
              "      <th>1</th>\n",
              "      <td>OfAnders121</td>\n",
              "      <td>@nytimes https://t.co/QXv6xlBN15</td>\n",
              "      <td>1</td>\n",
              "      <td>https://t.co/QXv6xlBN15</td>\n",
              "    </tr>\n",
              "    <tr>\n",
              "      <th>2</th>\n",
              "      <td>ToddLytle</td>\n",
              "      <td>@nytimes Must be nice</td>\n",
              "      <td>1</td>\n",
              "      <td>Must be nice</td>\n",
              "    </tr>\n",
              "    <tr>\n",
              "      <th>3</th>\n",
              "      <td>ktmacg79</td>\n",
              "      <td>@nytimes ❤️</td>\n",
              "      <td>1</td>\n",
              "      <td>❤️</td>\n",
              "    </tr>\n",
              "    <tr>\n",
              "      <th>4</th>\n",
              "      <td>sinjitunohanasi</td>\n",
              "      <td>@nytimes https://t.co/a6PAx0NRCM</td>\n",
              "      <td>1</td>\n",
              "      <td>https://t.co/a6PAx0NRCM</td>\n",
              "    </tr>\n",
              "    <tr>\n",
              "      <th>5</th>\n",
              "      <td>MissFarai</td>\n",
              "      <td>@nytimes This is nothing to be proud of. Imagi...</td>\n",
              "      <td>1</td>\n",
              "      <td>This is nothing to be proud of. Imagine having...</td>\n",
              "    </tr>\n",
              "    <tr>\n",
              "      <th>6</th>\n",
              "      <td>Ah_ma_rah</td>\n",
              "      <td>@nytimes CAN A CHURCH GIRL BE SEXY AND HIGH FA...</td>\n",
              "      <td>1</td>\n",
              "      <td>CAN A CHURCH GIRL BE SEXY AND HIGH FASHION AT ...</td>\n",
              "    </tr>\n",
              "    <tr>\n",
              "      <th>7</th>\n",
              "      <td>bfordski</td>\n",
              "      <td>@nytimes @chischisschissy why is this a thing</td>\n",
              "      <td>2</td>\n",
              "      <td>@chischisschissy why is this a thing</td>\n",
              "    </tr>\n",
              "    <tr>\n",
              "      <th>8</th>\n",
              "      <td>kolyk</td>\n",
              "      <td>@nytimes @th_alys</td>\n",
              "      <td>2</td>\n",
              "      <td>@th_alys</td>\n",
              "    </tr>\n",
              "    <tr>\n",
              "      <th>9</th>\n",
              "      <td>JoanneC32564892</td>\n",
              "      <td>@nytimes For me, I will hang up off the phone ...</td>\n",
              "      <td>1</td>\n",
              "      <td>For me, I will hang up off the phone LOL, l th...</td>\n",
              "    </tr>\n",
              "    <tr>\n",
              "      <th>10</th>\n",
              "      <td>Jeremiah_37</td>\n",
              "      <td>@nytimes Good thing she didn't think that abou...</td>\n",
              "      <td>1</td>\n",
              "      <td>Good thing she didn't think that about the vir...</td>\n",
              "    </tr>\n",
              "    <tr>\n",
              "      <th>11</th>\n",
              "      <td>Autarkh</td>\n",
              "      <td>@nytimes @donmoyn Love it. And it's already sh...</td>\n",
              "      <td>2</td>\n",
              "      <td>@donmoyn Love it. And it's already showing res...</td>\n",
              "    </tr>\n",
              "    <tr>\n",
              "      <th>12</th>\n",
              "      <td>AliMandela9</td>\n",
              "      <td>@nytimes Only one winner, it's cool but I woul...</td>\n",
              "      <td>1</td>\n",
              "      <td>Only one winner, it's cool but I would of pick...</td>\n",
              "    </tr>\n",
              "    <tr>\n",
              "      <th>13</th>\n",
              "      <td>kids_lance</td>\n",
              "      <td>@nytimes A vaccine lottery. Twisted.</td>\n",
              "      <td>1</td>\n",
              "      <td>A vaccine lottery. Twisted.</td>\n",
              "    </tr>\n",
              "    <tr>\n",
              "      <th>14</th>\n",
              "      <td>groverthompson</td>\n",
              "      <td>@nytimes Good for her, spend and invest wisely.</td>\n",
              "      <td>1</td>\n",
              "      <td>Good for her, spend and invest wisely.</td>\n",
              "    </tr>\n",
              "    <tr>\n",
              "      <th>15</th>\n",
              "      <td>jonNYC5yve</td>\n",
              "      <td>@nytimes Absurd</td>\n",
              "      <td>1</td>\n",
              "      <td>Absurd</td>\n",
              "    </tr>\n",
              "    <tr>\n",
              "      <th>16</th>\n",
              "      <td>XXFutureXY</td>\n",
              "      <td>@nytimes https://t.co/KMjN8QwYVk</td>\n",
              "      <td>1</td>\n",
              "      <td>https://t.co/KMjN8QwYVk</td>\n",
              "    </tr>\n",
              "    <tr>\n",
              "      <th>17</th>\n",
              "      <td>netzardfan</td>\n",
              "      <td>@nytimes Youth is wasted on the young.</td>\n",
              "      <td>1</td>\n",
              "      <td>Youth is wasted on the young.</td>\n",
              "    </tr>\n",
              "    <tr>\n",
              "      <th>18</th>\n",
              "      <td>RahafAl35049062</td>\n",
              "      <td>@nytimes #SaveSheikhJarrah  #SaveSilwan  #Isra...</td>\n",
              "      <td>1</td>\n",
              "      <td>#SaveSheikhJarrah  #SaveSilwan  #IsraelAparthe...</td>\n",
              "    </tr>\n",
              "  </tbody>\n",
              "</table>\n",
              "</div>"
            ],
            "text/plain": [
              "               user  ...                                       tags_removed\n",
              "0     brian44182533  ...  Who’s money is funding these lotteries? And do...\n",
              "1       OfAnders121  ...                           https://t.co/QXv6xlBN15 \n",
              "2         ToddLytle  ...                                      Must be nice \n",
              "3          ktmacg79  ...                                                ❤️ \n",
              "4   sinjitunohanasi  ...                           https://t.co/a6PAx0NRCM \n",
              "5         MissFarai  ...  This is nothing to be proud of. Imagine having...\n",
              "6         Ah_ma_rah  ...  CAN A CHURCH GIRL BE SEXY AND HIGH FASHION AT ...\n",
              "7          bfordski  ...              @chischisschissy why is this a thing \n",
              "8             kolyk  ...                                          @th_alys \n",
              "9   JoanneC32564892  ...  For me, I will hang up off the phone LOL, l th...\n",
              "10      Jeremiah_37  ...  Good thing she didn't think that about the vir...\n",
              "11          Autarkh  ...  @donmoyn Love it. And it's already showing res...\n",
              "12      AliMandela9  ...  Only one winner, it's cool but I would of pick...\n",
              "13       kids_lance  ...                       A vaccine lottery. Twisted. \n",
              "14   groverthompson  ...            Good for her, spend and invest wisely. \n",
              "15       jonNYC5yve  ...                                            Absurd \n",
              "16       XXFutureXY  ...                           https://t.co/KMjN8QwYVk \n",
              "17       netzardfan  ...                     Youth is wasted on the young. \n",
              "18  RahafAl35049062  ...  #SaveSheikhJarrah  #SaveSilwan  #IsraelAparthe...\n",
              "\n",
              "[19 rows x 4 columns]"
            ]
          },
          "metadata": {
            "tags": []
          },
          "execution_count": 8
        }
      ]
    },
    {
      "cell_type": "markdown",
      "metadata": {
        "id": "PHgKuVxuY6tw"
      },
      "source": [
        "## Removing Mentions"
      ]
    },
    {
      "cell_type": "code",
      "metadata": {
        "id": "r2Fdb3SAWlLe"
      },
      "source": [
        "df['tags_removed'] =  df['tags_removed'].apply(lambda x: x[x.find(\" \")+1: ] if (\"@\" in x) else x)"
      ],
      "execution_count": null,
      "outputs": []
    },
    {
      "cell_type": "code",
      "metadata": {
        "colab": {
          "base_uri": "https://localhost:8080/",
          "height": 792
        },
        "id": "N199qVg1YaEN",
        "outputId": "cc1083be-181a-4cd7-92f6-2faeee50dda3"
      },
      "source": [
        "df"
      ],
      "execution_count": null,
      "outputs": [
        {
          "output_type": "execute_result",
          "data": {
            "text/html": [
              "<div>\n",
              "<style scoped>\n",
              "    .dataframe tbody tr th:only-of-type {\n",
              "        vertical-align: middle;\n",
              "    }\n",
              "\n",
              "    .dataframe tbody tr th {\n",
              "        vertical-align: top;\n",
              "    }\n",
              "\n",
              "    .dataframe thead th {\n",
              "        text-align: right;\n",
              "    }\n",
              "</style>\n",
              "<table border=\"1\" class=\"dataframe\">\n",
              "  <thead>\n",
              "    <tr style=\"text-align: right;\">\n",
              "      <th></th>\n",
              "      <th>user</th>\n",
              "      <th>text</th>\n",
              "      <th>no_of_mentions</th>\n",
              "      <th>tags_removed</th>\n",
              "    </tr>\n",
              "  </thead>\n",
              "  <tbody>\n",
              "    <tr>\n",
              "      <th>0</th>\n",
              "      <td>brian44182533</td>\n",
              "      <td>@nytimes Who’s money is funding these lotterie...</td>\n",
              "      <td>1</td>\n",
              "      <td>Who’s money is funding these lotteries? And do...</td>\n",
              "    </tr>\n",
              "    <tr>\n",
              "      <th>1</th>\n",
              "      <td>OfAnders121</td>\n",
              "      <td>@nytimes https://t.co/QXv6xlBN15</td>\n",
              "      <td>1</td>\n",
              "      <td>https://t.co/QXv6xlBN15</td>\n",
              "    </tr>\n",
              "    <tr>\n",
              "      <th>2</th>\n",
              "      <td>ToddLytle</td>\n",
              "      <td>@nytimes Must be nice</td>\n",
              "      <td>1</td>\n",
              "      <td>Must be nice</td>\n",
              "    </tr>\n",
              "    <tr>\n",
              "      <th>3</th>\n",
              "      <td>ktmacg79</td>\n",
              "      <td>@nytimes ❤️</td>\n",
              "      <td>1</td>\n",
              "      <td>❤️</td>\n",
              "    </tr>\n",
              "    <tr>\n",
              "      <th>4</th>\n",
              "      <td>sinjitunohanasi</td>\n",
              "      <td>@nytimes https://t.co/a6PAx0NRCM</td>\n",
              "      <td>1</td>\n",
              "      <td>https://t.co/a6PAx0NRCM</td>\n",
              "    </tr>\n",
              "    <tr>\n",
              "      <th>5</th>\n",
              "      <td>MissFarai</td>\n",
              "      <td>@nytimes This is nothing to be proud of. Imagi...</td>\n",
              "      <td>1</td>\n",
              "      <td>This is nothing to be proud of. Imagine having...</td>\n",
              "    </tr>\n",
              "    <tr>\n",
              "      <th>6</th>\n",
              "      <td>Ah_ma_rah</td>\n",
              "      <td>@nytimes CAN A CHURCH GIRL BE SEXY AND HIGH FA...</td>\n",
              "      <td>1</td>\n",
              "      <td>CAN A CHURCH GIRL BE SEXY AND HIGH FASHION AT ...</td>\n",
              "    </tr>\n",
              "    <tr>\n",
              "      <th>7</th>\n",
              "      <td>bfordski</td>\n",
              "      <td>@nytimes @chischisschissy why is this a thing</td>\n",
              "      <td>2</td>\n",
              "      <td>why is this a thing</td>\n",
              "    </tr>\n",
              "    <tr>\n",
              "      <th>8</th>\n",
              "      <td>kolyk</td>\n",
              "      <td>@nytimes @th_alys</td>\n",
              "      <td>2</td>\n",
              "      <td></td>\n",
              "    </tr>\n",
              "    <tr>\n",
              "      <th>9</th>\n",
              "      <td>JoanneC32564892</td>\n",
              "      <td>@nytimes For me, I will hang up off the phone ...</td>\n",
              "      <td>1</td>\n",
              "      <td>For me, I will hang up off the phone LOL, l th...</td>\n",
              "    </tr>\n",
              "    <tr>\n",
              "      <th>10</th>\n",
              "      <td>Jeremiah_37</td>\n",
              "      <td>@nytimes Good thing she didn't think that abou...</td>\n",
              "      <td>1</td>\n",
              "      <td>Good thing she didn't think that about the vir...</td>\n",
              "    </tr>\n",
              "    <tr>\n",
              "      <th>11</th>\n",
              "      <td>Autarkh</td>\n",
              "      <td>@nytimes @donmoyn Love it. And it's already sh...</td>\n",
              "      <td>2</td>\n",
              "      <td>Love it. And it's already showing results in i...</td>\n",
              "    </tr>\n",
              "    <tr>\n",
              "      <th>12</th>\n",
              "      <td>AliMandela9</td>\n",
              "      <td>@nytimes Only one winner, it's cool but I woul...</td>\n",
              "      <td>1</td>\n",
              "      <td>Only one winner, it's cool but I would of pick...</td>\n",
              "    </tr>\n",
              "    <tr>\n",
              "      <th>13</th>\n",
              "      <td>kids_lance</td>\n",
              "      <td>@nytimes A vaccine lottery. Twisted.</td>\n",
              "      <td>1</td>\n",
              "      <td>A vaccine lottery. Twisted.</td>\n",
              "    </tr>\n",
              "    <tr>\n",
              "      <th>14</th>\n",
              "      <td>groverthompson</td>\n",
              "      <td>@nytimes Good for her, spend and invest wisely.</td>\n",
              "      <td>1</td>\n",
              "      <td>Good for her, spend and invest wisely.</td>\n",
              "    </tr>\n",
              "    <tr>\n",
              "      <th>15</th>\n",
              "      <td>jonNYC5yve</td>\n",
              "      <td>@nytimes Absurd</td>\n",
              "      <td>1</td>\n",
              "      <td>Absurd</td>\n",
              "    </tr>\n",
              "    <tr>\n",
              "      <th>16</th>\n",
              "      <td>XXFutureXY</td>\n",
              "      <td>@nytimes https://t.co/KMjN8QwYVk</td>\n",
              "      <td>1</td>\n",
              "      <td>https://t.co/KMjN8QwYVk</td>\n",
              "    </tr>\n",
              "    <tr>\n",
              "      <th>17</th>\n",
              "      <td>netzardfan</td>\n",
              "      <td>@nytimes Youth is wasted on the young.</td>\n",
              "      <td>1</td>\n",
              "      <td>Youth is wasted on the young.</td>\n",
              "    </tr>\n",
              "    <tr>\n",
              "      <th>18</th>\n",
              "      <td>RahafAl35049062</td>\n",
              "      <td>@nytimes #SaveSheikhJarrah  #SaveSilwan  #Isra...</td>\n",
              "      <td>1</td>\n",
              "      <td>#SaveSheikhJarrah  #SaveSilwan  #IsraelAparthe...</td>\n",
              "    </tr>\n",
              "  </tbody>\n",
              "</table>\n",
              "</div>"
            ],
            "text/plain": [
              "               user  ...                                       tags_removed\n",
              "0     brian44182533  ...  Who’s money is funding these lotteries? And do...\n",
              "1       OfAnders121  ...                           https://t.co/QXv6xlBN15 \n",
              "2         ToddLytle  ...                                      Must be nice \n",
              "3          ktmacg79  ...                                                ❤️ \n",
              "4   sinjitunohanasi  ...                           https://t.co/a6PAx0NRCM \n",
              "5         MissFarai  ...  This is nothing to be proud of. Imagine having...\n",
              "6         Ah_ma_rah  ...  CAN A CHURCH GIRL BE SEXY AND HIGH FASHION AT ...\n",
              "7          bfordski  ...                               why is this a thing \n",
              "8             kolyk  ...                                                   \n",
              "9   JoanneC32564892  ...  For me, I will hang up off the phone LOL, l th...\n",
              "10      Jeremiah_37  ...  Good thing she didn't think that about the vir...\n",
              "11          Autarkh  ...  Love it. And it's already showing results in i...\n",
              "12      AliMandela9  ...  Only one winner, it's cool but I would of pick...\n",
              "13       kids_lance  ...                       A vaccine lottery. Twisted. \n",
              "14   groverthompson  ...            Good for her, spend and invest wisely. \n",
              "15       jonNYC5yve  ...                                            Absurd \n",
              "16       XXFutureXY  ...                           https://t.co/KMjN8QwYVk \n",
              "17       netzardfan  ...                     Youth is wasted on the young. \n",
              "18  RahafAl35049062  ...  #SaveSheikhJarrah  #SaveSilwan  #IsraelAparthe...\n",
              "\n",
              "[19 rows x 4 columns]"
            ]
          },
          "metadata": {
            "tags": []
          },
          "execution_count": 10
        }
      ]
    },
    {
      "cell_type": "markdown",
      "metadata": {
        "id": "EaQGCrmiZGib"
      },
      "source": [
        "### Removing links"
      ]
    },
    {
      "cell_type": "code",
      "metadata": {
        "colab": {
          "base_uri": "https://localhost:8080/"
        },
        "id": "ZLWlmGYkZ8F-",
        "outputId": "9e7806e8-7642-46e5-98ec-7cbd653f2b0b"
      },
      "source": [
        "for x in df['tags_removed']:\n",
        "  if (\"http\" in x):\n",
        "    link = x[x.find(\"http\") : x.find(\" \")+1]\n",
        "    print(link)\n",
        "    LINKS.append(link)"
      ],
      "execution_count": null,
      "outputs": [
        {
          "output_type": "stream",
          "text": [
            "https://t.co/QXv6xlBN15 \n",
            "https://t.co/a6PAx0NRCM \n",
            "\n",
            "https://t.co/KMjN8QwYVk \n",
            "\n"
          ],
          "name": "stdout"
        }
      ]
    },
    {
      "cell_type": "code",
      "metadata": {
        "id": "1Fp7qps_YBU7"
      },
      "source": [
        "df['links_removed'] =  df['tags_removed'].apply(lambda x: x[x.find(\" \")+1: ] if (\"http\" in x) else x)"
      ],
      "execution_count": null,
      "outputs": []
    },
    {
      "cell_type": "code",
      "metadata": {
        "colab": {
          "base_uri": "https://localhost:8080/",
          "height": 929
        },
        "id": "zjWyh4SMZZ2p",
        "outputId": "758544fe-4816-4283-f786-75fbbe460a1a"
      },
      "source": [
        "df"
      ],
      "execution_count": null,
      "outputs": [
        {
          "output_type": "execute_result",
          "data": {
            "text/html": [
              "<div>\n",
              "<style scoped>\n",
              "    .dataframe tbody tr th:only-of-type {\n",
              "        vertical-align: middle;\n",
              "    }\n",
              "\n",
              "    .dataframe tbody tr th {\n",
              "        vertical-align: top;\n",
              "    }\n",
              "\n",
              "    .dataframe thead th {\n",
              "        text-align: right;\n",
              "    }\n",
              "</style>\n",
              "<table border=\"1\" class=\"dataframe\">\n",
              "  <thead>\n",
              "    <tr style=\"text-align: right;\">\n",
              "      <th></th>\n",
              "      <th>user</th>\n",
              "      <th>text</th>\n",
              "      <th>no_of_mentions</th>\n",
              "      <th>tags_removed</th>\n",
              "      <th>links_removed</th>\n",
              "    </tr>\n",
              "  </thead>\n",
              "  <tbody>\n",
              "    <tr>\n",
              "      <th>0</th>\n",
              "      <td>brian44182533</td>\n",
              "      <td>@nytimes Who’s money is funding these lotterie...</td>\n",
              "      <td>1</td>\n",
              "      <td>Who’s money is funding these lotteries? And do...</td>\n",
              "      <td>Who’s money is funding these lotteries? And do...</td>\n",
              "    </tr>\n",
              "    <tr>\n",
              "      <th>1</th>\n",
              "      <td>OfAnders121</td>\n",
              "      <td>@nytimes https://t.co/QXv6xlBN15</td>\n",
              "      <td>1</td>\n",
              "      <td>https://t.co/QXv6xlBN15</td>\n",
              "      <td></td>\n",
              "    </tr>\n",
              "    <tr>\n",
              "      <th>2</th>\n",
              "      <td>ToddLytle</td>\n",
              "      <td>@nytimes Must be nice</td>\n",
              "      <td>1</td>\n",
              "      <td>Must be nice</td>\n",
              "      <td>Must be nice</td>\n",
              "    </tr>\n",
              "    <tr>\n",
              "      <th>3</th>\n",
              "      <td>ktmacg79</td>\n",
              "      <td>@nytimes ❤️</td>\n",
              "      <td>1</td>\n",
              "      <td>❤️</td>\n",
              "      <td>❤️</td>\n",
              "    </tr>\n",
              "    <tr>\n",
              "      <th>4</th>\n",
              "      <td>sinjitunohanasi</td>\n",
              "      <td>@nytimes https://t.co/a6PAx0NRCM</td>\n",
              "      <td>1</td>\n",
              "      <td>https://t.co/a6PAx0NRCM</td>\n",
              "      <td></td>\n",
              "    </tr>\n",
              "    <tr>\n",
              "      <th>5</th>\n",
              "      <td>MissFarai</td>\n",
              "      <td>@nytimes This is nothing to be proud of. Imagi...</td>\n",
              "      <td>1</td>\n",
              "      <td>This is nothing to be proud of. Imagine having...</td>\n",
              "      <td>This is nothing to be proud of. Imagine having...</td>\n",
              "    </tr>\n",
              "    <tr>\n",
              "      <th>6</th>\n",
              "      <td>Ah_ma_rah</td>\n",
              "      <td>@nytimes CAN A CHURCH GIRL BE SEXY AND HIGH FA...</td>\n",
              "      <td>1</td>\n",
              "      <td>CAN A CHURCH GIRL BE SEXY AND HIGH FASHION AT ...</td>\n",
              "      <td>A CHURCH GIRL BE SEXY AND HIGH FASHION AT THE ...</td>\n",
              "    </tr>\n",
              "    <tr>\n",
              "      <th>7</th>\n",
              "      <td>bfordski</td>\n",
              "      <td>@nytimes @chischisschissy why is this a thing</td>\n",
              "      <td>2</td>\n",
              "      <td>why is this a thing</td>\n",
              "      <td>why is this a thing</td>\n",
              "    </tr>\n",
              "    <tr>\n",
              "      <th>8</th>\n",
              "      <td>kolyk</td>\n",
              "      <td>@nytimes @th_alys</td>\n",
              "      <td>2</td>\n",
              "      <td></td>\n",
              "      <td></td>\n",
              "    </tr>\n",
              "    <tr>\n",
              "      <th>9</th>\n",
              "      <td>JoanneC32564892</td>\n",
              "      <td>@nytimes For me, I will hang up off the phone ...</td>\n",
              "      <td>1</td>\n",
              "      <td>For me, I will hang up off the phone LOL, l th...</td>\n",
              "      <td>For me, I will hang up off the phone LOL, l th...</td>\n",
              "    </tr>\n",
              "    <tr>\n",
              "      <th>10</th>\n",
              "      <td>Jeremiah_37</td>\n",
              "      <td>@nytimes Good thing she didn't think that abou...</td>\n",
              "      <td>1</td>\n",
              "      <td>Good thing she didn't think that about the vir...</td>\n",
              "      <td>Good thing she didn't think that about the vir...</td>\n",
              "    </tr>\n",
              "    <tr>\n",
              "      <th>11</th>\n",
              "      <td>Autarkh</td>\n",
              "      <td>@nytimes @donmoyn Love it. And it's already sh...</td>\n",
              "      <td>2</td>\n",
              "      <td>Love it. And it's already showing results in i...</td>\n",
              "      <td>Love it. And it's already showing results in i...</td>\n",
              "    </tr>\n",
              "    <tr>\n",
              "      <th>12</th>\n",
              "      <td>AliMandela9</td>\n",
              "      <td>@nytimes Only one winner, it's cool but I woul...</td>\n",
              "      <td>1</td>\n",
              "      <td>Only one winner, it's cool but I would of pick...</td>\n",
              "      <td>Only one winner, it's cool but I would of pick...</td>\n",
              "    </tr>\n",
              "    <tr>\n",
              "      <th>13</th>\n",
              "      <td>kids_lance</td>\n",
              "      <td>@nytimes A vaccine lottery. Twisted.</td>\n",
              "      <td>1</td>\n",
              "      <td>A vaccine lottery. Twisted.</td>\n",
              "      <td>A vaccine lottery. Twisted.</td>\n",
              "    </tr>\n",
              "    <tr>\n",
              "      <th>14</th>\n",
              "      <td>groverthompson</td>\n",
              "      <td>@nytimes Good for her, spend and invest wisely.</td>\n",
              "      <td>1</td>\n",
              "      <td>Good for her, spend and invest wisely.</td>\n",
              "      <td>Good for her, spend and invest wisely.</td>\n",
              "    </tr>\n",
              "    <tr>\n",
              "      <th>15</th>\n",
              "      <td>jonNYC5yve</td>\n",
              "      <td>@nytimes Absurd</td>\n",
              "      <td>1</td>\n",
              "      <td>Absurd</td>\n",
              "      <td>Absurd</td>\n",
              "    </tr>\n",
              "    <tr>\n",
              "      <th>16</th>\n",
              "      <td>XXFutureXY</td>\n",
              "      <td>@nytimes https://t.co/KMjN8QwYVk</td>\n",
              "      <td>1</td>\n",
              "      <td>https://t.co/KMjN8QwYVk</td>\n",
              "      <td></td>\n",
              "    </tr>\n",
              "    <tr>\n",
              "      <th>17</th>\n",
              "      <td>netzardfan</td>\n",
              "      <td>@nytimes Youth is wasted on the young.</td>\n",
              "      <td>1</td>\n",
              "      <td>Youth is wasted on the young.</td>\n",
              "      <td>Youth is wasted on the young.</td>\n",
              "    </tr>\n",
              "    <tr>\n",
              "      <th>18</th>\n",
              "      <td>RahafAl35049062</td>\n",
              "      <td>@nytimes #SaveSheikhJarrah  #SaveSilwan  #Isra...</td>\n",
              "      <td>1</td>\n",
              "      <td>#SaveSheikhJarrah  #SaveSilwan  #IsraelAparthe...</td>\n",
              "      <td>#SaveSilwan  #IsraelApartheidstate  free Pale...</td>\n",
              "    </tr>\n",
              "  </tbody>\n",
              "</table>\n",
              "</div>"
            ],
            "text/plain": [
              "               user  ...                                      links_removed\n",
              "0     brian44182533  ...  Who’s money is funding these lotteries? And do...\n",
              "1       OfAnders121  ...                                                   \n",
              "2         ToddLytle  ...                                      Must be nice \n",
              "3          ktmacg79  ...                                                ❤️ \n",
              "4   sinjitunohanasi  ...                                                   \n",
              "5         MissFarai  ...  This is nothing to be proud of. Imagine having...\n",
              "6         Ah_ma_rah  ...  A CHURCH GIRL BE SEXY AND HIGH FASHION AT THE ...\n",
              "7          bfordski  ...                               why is this a thing \n",
              "8             kolyk  ...                                                   \n",
              "9   JoanneC32564892  ...  For me, I will hang up off the phone LOL, l th...\n",
              "10      Jeremiah_37  ...  Good thing she didn't think that about the vir...\n",
              "11          Autarkh  ...  Love it. And it's already showing results in i...\n",
              "12      AliMandela9  ...  Only one winner, it's cool but I would of pick...\n",
              "13       kids_lance  ...                       A vaccine lottery. Twisted. \n",
              "14   groverthompson  ...            Good for her, spend and invest wisely. \n",
              "15       jonNYC5yve  ...                                            Absurd \n",
              "16       XXFutureXY  ...                                                   \n",
              "17       netzardfan  ...                     Youth is wasted on the young. \n",
              "18  RahafAl35049062  ...   #SaveSilwan  #IsraelApartheidstate  free Pale...\n",
              "\n",
              "[19 rows x 5 columns]"
            ]
          },
          "metadata": {
            "tags": []
          },
          "execution_count": 13
        }
      ]
    },
    {
      "cell_type": "code",
      "metadata": {
        "colab": {
          "base_uri": "https://localhost:8080/",
          "height": 656
        },
        "id": "2tF9tveVbA_S",
        "outputId": "bf8c275f-98a9-48f3-acc7-a10adf2ac768"
      },
      "source": [
        "df = df.drop(columns=['tags_removed', 'no_of_mentions'])\n",
        "df"
      ],
      "execution_count": null,
      "outputs": [
        {
          "output_type": "execute_result",
          "data": {
            "text/html": [
              "<div>\n",
              "<style scoped>\n",
              "    .dataframe tbody tr th:only-of-type {\n",
              "        vertical-align: middle;\n",
              "    }\n",
              "\n",
              "    .dataframe tbody tr th {\n",
              "        vertical-align: top;\n",
              "    }\n",
              "\n",
              "    .dataframe thead th {\n",
              "        text-align: right;\n",
              "    }\n",
              "</style>\n",
              "<table border=\"1\" class=\"dataframe\">\n",
              "  <thead>\n",
              "    <tr style=\"text-align: right;\">\n",
              "      <th></th>\n",
              "      <th>user</th>\n",
              "      <th>text</th>\n",
              "      <th>links_removed</th>\n",
              "    </tr>\n",
              "  </thead>\n",
              "  <tbody>\n",
              "    <tr>\n",
              "      <th>0</th>\n",
              "      <td>brian44182533</td>\n",
              "      <td>@nytimes Who’s money is funding these lotterie...</td>\n",
              "      <td>Who’s money is funding these lotteries? And do...</td>\n",
              "    </tr>\n",
              "    <tr>\n",
              "      <th>1</th>\n",
              "      <td>OfAnders121</td>\n",
              "      <td>@nytimes https://t.co/QXv6xlBN15</td>\n",
              "      <td></td>\n",
              "    </tr>\n",
              "    <tr>\n",
              "      <th>2</th>\n",
              "      <td>ToddLytle</td>\n",
              "      <td>@nytimes Must be nice</td>\n",
              "      <td>Must be nice</td>\n",
              "    </tr>\n",
              "    <tr>\n",
              "      <th>3</th>\n",
              "      <td>ktmacg79</td>\n",
              "      <td>@nytimes ❤️</td>\n",
              "      <td>❤️</td>\n",
              "    </tr>\n",
              "    <tr>\n",
              "      <th>4</th>\n",
              "      <td>sinjitunohanasi</td>\n",
              "      <td>@nytimes https://t.co/a6PAx0NRCM</td>\n",
              "      <td></td>\n",
              "    </tr>\n",
              "    <tr>\n",
              "      <th>5</th>\n",
              "      <td>MissFarai</td>\n",
              "      <td>@nytimes This is nothing to be proud of. Imagi...</td>\n",
              "      <td>This is nothing to be proud of. Imagine having...</td>\n",
              "    </tr>\n",
              "    <tr>\n",
              "      <th>6</th>\n",
              "      <td>Ah_ma_rah</td>\n",
              "      <td>@nytimes CAN A CHURCH GIRL BE SEXY AND HIGH FA...</td>\n",
              "      <td>A CHURCH GIRL BE SEXY AND HIGH FASHION AT THE ...</td>\n",
              "    </tr>\n",
              "    <tr>\n",
              "      <th>7</th>\n",
              "      <td>bfordski</td>\n",
              "      <td>@nytimes @chischisschissy why is this a thing</td>\n",
              "      <td>why is this a thing</td>\n",
              "    </tr>\n",
              "    <tr>\n",
              "      <th>8</th>\n",
              "      <td>kolyk</td>\n",
              "      <td>@nytimes @th_alys</td>\n",
              "      <td></td>\n",
              "    </tr>\n",
              "    <tr>\n",
              "      <th>9</th>\n",
              "      <td>JoanneC32564892</td>\n",
              "      <td>@nytimes For me, I will hang up off the phone ...</td>\n",
              "      <td>For me, I will hang up off the phone LOL, l th...</td>\n",
              "    </tr>\n",
              "    <tr>\n",
              "      <th>10</th>\n",
              "      <td>Jeremiah_37</td>\n",
              "      <td>@nytimes Good thing she didn't think that abou...</td>\n",
              "      <td>Good thing she didn't think that about the vir...</td>\n",
              "    </tr>\n",
              "    <tr>\n",
              "      <th>11</th>\n",
              "      <td>Autarkh</td>\n",
              "      <td>@nytimes @donmoyn Love it. And it's already sh...</td>\n",
              "      <td>Love it. And it's already showing results in i...</td>\n",
              "    </tr>\n",
              "    <tr>\n",
              "      <th>12</th>\n",
              "      <td>AliMandela9</td>\n",
              "      <td>@nytimes Only one winner, it's cool but I woul...</td>\n",
              "      <td>Only one winner, it's cool but I would of pick...</td>\n",
              "    </tr>\n",
              "    <tr>\n",
              "      <th>13</th>\n",
              "      <td>kids_lance</td>\n",
              "      <td>@nytimes A vaccine lottery. Twisted.</td>\n",
              "      <td>A vaccine lottery. Twisted.</td>\n",
              "    </tr>\n",
              "    <tr>\n",
              "      <th>14</th>\n",
              "      <td>groverthompson</td>\n",
              "      <td>@nytimes Good for her, spend and invest wisely.</td>\n",
              "      <td>Good for her, spend and invest wisely.</td>\n",
              "    </tr>\n",
              "    <tr>\n",
              "      <th>15</th>\n",
              "      <td>jonNYC5yve</td>\n",
              "      <td>@nytimes Absurd</td>\n",
              "      <td>Absurd</td>\n",
              "    </tr>\n",
              "    <tr>\n",
              "      <th>16</th>\n",
              "      <td>XXFutureXY</td>\n",
              "      <td>@nytimes https://t.co/KMjN8QwYVk</td>\n",
              "      <td></td>\n",
              "    </tr>\n",
              "    <tr>\n",
              "      <th>17</th>\n",
              "      <td>netzardfan</td>\n",
              "      <td>@nytimes Youth is wasted on the young.</td>\n",
              "      <td>Youth is wasted on the young.</td>\n",
              "    </tr>\n",
              "    <tr>\n",
              "      <th>18</th>\n",
              "      <td>RahafAl35049062</td>\n",
              "      <td>@nytimes #SaveSheikhJarrah  #SaveSilwan  #Isra...</td>\n",
              "      <td>#SaveSilwan  #IsraelApartheidstate  free Pale...</td>\n",
              "    </tr>\n",
              "  </tbody>\n",
              "</table>\n",
              "</div>"
            ],
            "text/plain": [
              "               user  ...                                      links_removed\n",
              "0     brian44182533  ...  Who’s money is funding these lotteries? And do...\n",
              "1       OfAnders121  ...                                                   \n",
              "2         ToddLytle  ...                                      Must be nice \n",
              "3          ktmacg79  ...                                                ❤️ \n",
              "4   sinjitunohanasi  ...                                                   \n",
              "5         MissFarai  ...  This is nothing to be proud of. Imagine having...\n",
              "6         Ah_ma_rah  ...  A CHURCH GIRL BE SEXY AND HIGH FASHION AT THE ...\n",
              "7          bfordski  ...                               why is this a thing \n",
              "8             kolyk  ...                                                   \n",
              "9   JoanneC32564892  ...  For me, I will hang up off the phone LOL, l th...\n",
              "10      Jeremiah_37  ...  Good thing she didn't think that about the vir...\n",
              "11          Autarkh  ...  Love it. And it's already showing results in i...\n",
              "12      AliMandela9  ...  Only one winner, it's cool but I would of pick...\n",
              "13       kids_lance  ...                       A vaccine lottery. Twisted. \n",
              "14   groverthompson  ...            Good for her, spend and invest wisely. \n",
              "15       jonNYC5yve  ...                                            Absurd \n",
              "16       XXFutureXY  ...                                                   \n",
              "17       netzardfan  ...                     Youth is wasted on the young. \n",
              "18  RahafAl35049062  ...   #SaveSilwan  #IsraelApartheidstate  free Pale...\n",
              "\n",
              "[19 rows x 3 columns]"
            ]
          },
          "metadata": {
            "tags": []
          },
          "execution_count": 14
        }
      ]
    },
    {
      "cell_type": "markdown",
      "metadata": {
        "id": "o03kzPBScIAJ"
      },
      "source": [
        "Dropping null rows"
      ]
    },
    {
      "cell_type": "code",
      "metadata": {
        "colab": {
          "base_uri": "https://localhost:8080/"
        },
        "id": "AS3IoBliczI1",
        "outputId": "2c390a91-f43b-4f26-ba42-ebc82bea3397"
      },
      "source": [
        "df['links_removed'].apply(lambda x: len(x))"
      ],
      "execution_count": null,
      "outputs": [
        {
          "output_type": "execute_result",
          "data": {
            "text/plain": [
              "0      98\n",
              "1       0\n",
              "2      13\n",
              "3       3\n",
              "4       0\n",
              "5     156\n",
              "6     255\n",
              "7      20\n",
              "8       0\n",
              "9      67\n",
              "10     52\n",
              "11    118\n",
              "12    109\n",
              "13     28\n",
              "14     39\n",
              "15      7\n",
              "16      0\n",
              "17     30\n",
              "18     83\n",
              "Name: links_removed, dtype: int64"
            ]
          },
          "metadata": {
            "tags": []
          },
          "execution_count": 15
        }
      ]
    },
    {
      "cell_type": "code",
      "metadata": {
        "id": "5hesOcPsdKb9"
      },
      "source": [
        "df = df.replace(\"\", np.nan)"
      ],
      "execution_count": null,
      "outputs": []
    },
    {
      "cell_type": "code",
      "metadata": {
        "id": "bSJp4_2gZet7"
      },
      "source": [
        "df = df.dropna(subset=['links_removed'])"
      ],
      "execution_count": null,
      "outputs": []
    },
    {
      "cell_type": "code",
      "metadata": {
        "colab": {
          "base_uri": "https://localhost:8080/",
          "height": 515
        },
        "id": "_A_hB1XMqvop",
        "outputId": "7f94077c-bbcc-41de-e7a8-02a53fb15fdb"
      },
      "source": [
        "df"
      ],
      "execution_count": null,
      "outputs": [
        {
          "output_type": "execute_result",
          "data": {
            "text/html": [
              "<div>\n",
              "<style scoped>\n",
              "    .dataframe tbody tr th:only-of-type {\n",
              "        vertical-align: middle;\n",
              "    }\n",
              "\n",
              "    .dataframe tbody tr th {\n",
              "        vertical-align: top;\n",
              "    }\n",
              "\n",
              "    .dataframe thead th {\n",
              "        text-align: right;\n",
              "    }\n",
              "</style>\n",
              "<table border=\"1\" class=\"dataframe\">\n",
              "  <thead>\n",
              "    <tr style=\"text-align: right;\">\n",
              "      <th></th>\n",
              "      <th>user</th>\n",
              "      <th>text</th>\n",
              "      <th>links_removed</th>\n",
              "    </tr>\n",
              "  </thead>\n",
              "  <tbody>\n",
              "    <tr>\n",
              "      <th>0</th>\n",
              "      <td>brian44182533</td>\n",
              "      <td>@nytimes Who’s money is funding these lotterie...</td>\n",
              "      <td>Who’s money is funding these lotteries? And do...</td>\n",
              "    </tr>\n",
              "    <tr>\n",
              "      <th>2</th>\n",
              "      <td>ToddLytle</td>\n",
              "      <td>@nytimes Must be nice</td>\n",
              "      <td>Must be nice</td>\n",
              "    </tr>\n",
              "    <tr>\n",
              "      <th>3</th>\n",
              "      <td>ktmacg79</td>\n",
              "      <td>@nytimes ❤️</td>\n",
              "      <td>❤️</td>\n",
              "    </tr>\n",
              "    <tr>\n",
              "      <th>5</th>\n",
              "      <td>MissFarai</td>\n",
              "      <td>@nytimes This is nothing to be proud of. Imagi...</td>\n",
              "      <td>This is nothing to be proud of. Imagine having...</td>\n",
              "    </tr>\n",
              "    <tr>\n",
              "      <th>6</th>\n",
              "      <td>Ah_ma_rah</td>\n",
              "      <td>@nytimes CAN A CHURCH GIRL BE SEXY AND HIGH FA...</td>\n",
              "      <td>A CHURCH GIRL BE SEXY AND HIGH FASHION AT THE ...</td>\n",
              "    </tr>\n",
              "    <tr>\n",
              "      <th>7</th>\n",
              "      <td>bfordski</td>\n",
              "      <td>@nytimes @chischisschissy why is this a thing</td>\n",
              "      <td>why is this a thing</td>\n",
              "    </tr>\n",
              "    <tr>\n",
              "      <th>9</th>\n",
              "      <td>JoanneC32564892</td>\n",
              "      <td>@nytimes For me, I will hang up off the phone ...</td>\n",
              "      <td>For me, I will hang up off the phone LOL, l th...</td>\n",
              "    </tr>\n",
              "    <tr>\n",
              "      <th>10</th>\n",
              "      <td>Jeremiah_37</td>\n",
              "      <td>@nytimes Good thing she didn't think that abou...</td>\n",
              "      <td>Good thing she didn't think that about the vir...</td>\n",
              "    </tr>\n",
              "    <tr>\n",
              "      <th>11</th>\n",
              "      <td>Autarkh</td>\n",
              "      <td>@nytimes @donmoyn Love it. And it's already sh...</td>\n",
              "      <td>Love it. And it's already showing results in i...</td>\n",
              "    </tr>\n",
              "    <tr>\n",
              "      <th>12</th>\n",
              "      <td>AliMandela9</td>\n",
              "      <td>@nytimes Only one winner, it's cool but I woul...</td>\n",
              "      <td>Only one winner, it's cool but I would of pick...</td>\n",
              "    </tr>\n",
              "    <tr>\n",
              "      <th>13</th>\n",
              "      <td>kids_lance</td>\n",
              "      <td>@nytimes A vaccine lottery. Twisted.</td>\n",
              "      <td>A vaccine lottery. Twisted.</td>\n",
              "    </tr>\n",
              "    <tr>\n",
              "      <th>14</th>\n",
              "      <td>groverthompson</td>\n",
              "      <td>@nytimes Good for her, spend and invest wisely.</td>\n",
              "      <td>Good for her, spend and invest wisely.</td>\n",
              "    </tr>\n",
              "    <tr>\n",
              "      <th>15</th>\n",
              "      <td>jonNYC5yve</td>\n",
              "      <td>@nytimes Absurd</td>\n",
              "      <td>Absurd</td>\n",
              "    </tr>\n",
              "    <tr>\n",
              "      <th>17</th>\n",
              "      <td>netzardfan</td>\n",
              "      <td>@nytimes Youth is wasted on the young.</td>\n",
              "      <td>Youth is wasted on the young.</td>\n",
              "    </tr>\n",
              "    <tr>\n",
              "      <th>18</th>\n",
              "      <td>RahafAl35049062</td>\n",
              "      <td>@nytimes #SaveSheikhJarrah  #SaveSilwan  #Isra...</td>\n",
              "      <td>#SaveSilwan  #IsraelApartheidstate  free Pale...</td>\n",
              "    </tr>\n",
              "  </tbody>\n",
              "</table>\n",
              "</div>"
            ],
            "text/plain": [
              "               user  ...                                      links_removed\n",
              "0     brian44182533  ...  Who’s money is funding these lotteries? And do...\n",
              "2         ToddLytle  ...                                      Must be nice \n",
              "3          ktmacg79  ...                                                ❤️ \n",
              "5         MissFarai  ...  This is nothing to be proud of. Imagine having...\n",
              "6         Ah_ma_rah  ...  A CHURCH GIRL BE SEXY AND HIGH FASHION AT THE ...\n",
              "7          bfordski  ...                               why is this a thing \n",
              "9   JoanneC32564892  ...  For me, I will hang up off the phone LOL, l th...\n",
              "10      Jeremiah_37  ...  Good thing she didn't think that about the vir...\n",
              "11          Autarkh  ...  Love it. And it's already showing results in i...\n",
              "12      AliMandela9  ...  Only one winner, it's cool but I would of pick...\n",
              "13       kids_lance  ...                       A vaccine lottery. Twisted. \n",
              "14   groverthompson  ...            Good for her, spend and invest wisely. \n",
              "15       jonNYC5yve  ...                                            Absurd \n",
              "17       netzardfan  ...                     Youth is wasted on the young. \n",
              "18  RahafAl35049062  ...   #SaveSilwan  #IsraelApartheidstate  free Pale...\n",
              "\n",
              "[15 rows x 3 columns]"
            ]
          },
          "metadata": {
            "tags": []
          },
          "execution_count": 18
        }
      ]
    },
    {
      "cell_type": "markdown",
      "metadata": {
        "id": "uiYpf6_wnxdJ"
      },
      "source": [
        "##Removing the sensitive data"
      ]
    },
    {
      "cell_type": "markdown",
      "metadata": {
        "id": "Ir9XQxUnk-m4"
      },
      "source": [
        "##**classifying the text**"
      ]
    },
    {
      "cell_type": "markdown",
      "metadata": {
        "id": "VGHkilzFnLge"
      },
      "source": [
        "## "
      ]
    },
    {
      "cell_type": "code",
      "metadata": {
        "id": "eT0ssAGTk4A7"
      },
      "source": [
        "filesResults=[]\n",
        "\n",
        "for fileText in df['links_removed']:\n",
        "    filesResults.append({\n",
        "        'fileName': fileText,\n",
        "        'results': client.detection(body={\"document\": {\"text\": fileText}}, params={'language': 'en','detector':'pii'})\n",
        "    })"
      ],
      "execution_count": null,
      "outputs": []
    },
    {
      "cell_type": "code",
      "metadata": {
        "colab": {
          "base_uri": "https://localhost:8080/",
          "height": 157
        },
        "id": "B0Wh2_7WgrUx",
        "outputId": "9e79f6c6-d14e-418a-a74d-d7559c617124"
      },
      "source": [
        "import pandas as pandas\n",
        "import json\n",
        "from IPython.core.display import display, HTML\n",
        "\n",
        "pandas.set_option('display.max_rows', None)\n",
        "mapColoredCell = set()\n",
        "\n",
        "def coloredCell(s):\n",
        "    key = '-'.join(s.name[0:3])\n",
        "    if(key not in mapColoredCell):\n",
        "        mapColoredCell.add(key)\n",
        "        return ['border-top: 1px solid !important']\n",
        "    \n",
        "    return['']\n",
        "   \n",
        "dataToShow = []\n",
        "\n",
        "for fileResults in filesResults:\n",
        "    mapInstances = {}\n",
        "    fieldName=\"\"\n",
        "    \n",
        "    for extraction in fileResults['results'].extractions:\n",
        "        \n",
        "        if extraction.template in mapInstances:\n",
        "            mapInstances[extraction.template] += 1\n",
        "        else:\n",
        "            mapInstances[extraction.template] = 1\n",
        "            \n",
        "        dateCount=0;\n",
        "        \n",
        "        for field in extraction.fields:\n",
        "            fieldName = field.name\n",
        "            if field.name == \"dateTime\":\n",
        "                dateCount+=1\n",
        "                fieldName+=\" #\" + str(dateCount)\n",
        "            row = {\n",
        "                \"file\": fileResults['fileName'],\n",
        "                \"template\": extraction.template,\n",
        "                \"instance\": '#' + str(mapInstances[extraction.template]),\n",
        "                'field': fieldName,\n",
        "                'value': field.value\n",
        "            }\n",
        "\n",
        "            dataToShow.append(row)\n",
        "           \n",
        "dataFrame = pandas.DataFrame(dataToShow)\n",
        "dataFrame.set_index(['file', 'template', 'instance', 'field'], inplace=True)\n",
        "leftAlignedDataFrame = dataFrame.style.set_properties(**{'text-align': 'left', 'padding-left': '30px'})  \n",
        "leftAlignedDataFrame.apply(coloredCell,axis=1)\n",
        "display(leftAlignedDataFrame)"
      ],
      "execution_count": null,
      "outputs": [
        {
          "output_type": "display_data",
          "data": {
            "text/html": [
              "<style  type=\"text/css\" >\n",
              "#T_62fa9a40_cd0d_11eb_879c_0242ac1c0002row0_col0,#T_62fa9a40_cd0d_11eb_879c_0242ac1c0002row1_col0,#T_62fa9a40_cd0d_11eb_879c_0242ac1c0002row3_col0{\n",
              "            text-align:  left;\n",
              "            padding-left:  30px;\n",
              "            border-top:  1px solid !important;\n",
              "        }#T_62fa9a40_cd0d_11eb_879c_0242ac1c0002row2_col0{\n",
              "            text-align:  left;\n",
              "            padding-left:  30px;\n",
              "        }</style><table id=\"T_62fa9a40_cd0d_11eb_879c_0242ac1c0002\" ><thead>    <tr>        <th class=\"blank\" ></th>        <th class=\"blank\" ></th>        <th class=\"blank\" ></th>        <th class=\"blank level0\" ></th>        <th class=\"col_heading level0 col0\" >value</th>    </tr>    <tr>        <th class=\"index_name level0\" >file</th>        <th class=\"index_name level1\" >template</th>        <th class=\"index_name level2\" >instance</th>        <th class=\"index_name level3\" >field</th>        <th class=\"blank\" ></th>    </tr></thead><tbody>\n",
              "                <tr>\n",
              "                        <th id=\"T_62fa9a40_cd0d_11eb_879c_0242ac1c0002level0_row0\" class=\"row_heading level0 row0\" >A CHURCH GIRL BE SEXY AND HIGH FASHION AT THE SAME TIME?...  Watch my latest fashion video to find out via LINK BELOW ↓  https://t.co/Vl22n8NMrI  PLEASE SUSBCRIBE and Turn on POST NOTIFICATIONS. THANKS!  #viral #trending #highfashion #Christian #YouTuber </th>\n",
              "                        <th id=\"T_62fa9a40_cd0d_11eb_879c_0242ac1c0002level1_row0\" class=\"row_heading level1 row0\" >PII_URL</th>\n",
              "                        <th id=\"T_62fa9a40_cd0d_11eb_879c_0242ac1c0002level2_row0\" class=\"row_heading level2 row0\" >#1</th>\n",
              "                        <th id=\"T_62fa9a40_cd0d_11eb_879c_0242ac1c0002level3_row0\" class=\"row_heading level3 row0\" >URL</th>\n",
              "                        <td id=\"T_62fa9a40_cd0d_11eb_879c_0242ac1c0002row0_col0\" class=\"data row0 col0\" >https://t.co/Vl22n8NMrI</td>\n",
              "            </tr>\n",
              "            <tr>\n",
              "                        <th id=\"T_62fa9a40_cd0d_11eb_879c_0242ac1c0002level0_row1\" class=\"row_heading level0 row1\" rowspan=2>Love it. And it's already showing results in increased vaccination. Kudos to Gov. DeWine for experimenting with this. </th>\n",
              "                        <th id=\"T_62fa9a40_cd0d_11eb_879c_0242ac1c0002level1_row1\" class=\"row_heading level1 row1\" rowspan=2>PII_PERSON</th>\n",
              "                        <th id=\"T_62fa9a40_cd0d_11eb_879c_0242ac1c0002level2_row1\" class=\"row_heading level2 row1\" rowspan=2>#1</th>\n",
              "                        <th id=\"T_62fa9a40_cd0d_11eb_879c_0242ac1c0002level3_row1\" class=\"row_heading level3 row1\" >familyName</th>\n",
              "                        <td id=\"T_62fa9a40_cd0d_11eb_879c_0242ac1c0002row1_col0\" class=\"data row1 col0\" >DeWine</td>\n",
              "            </tr>\n",
              "            <tr>\n",
              "                                                <th id=\"T_62fa9a40_cd0d_11eb_879c_0242ac1c0002level3_row2\" class=\"row_heading level3 row2\" >person</th>\n",
              "                        <td id=\"T_62fa9a40_cd0d_11eb_879c_0242ac1c0002row2_col0\" class=\"data row2 col0\" >DeWine</td>\n",
              "            </tr>\n",
              "            <tr>\n",
              "                        <th id=\"T_62fa9a40_cd0d_11eb_879c_0242ac1c0002level0_row3\" class=\"row_heading level0 row3\" > #SaveSilwan  #IsraelApartheidstate  free Palestine 🇵🇸🇵🇸🇵🇸 https://t.co/pzgbam65L4 </th>\n",
              "                        <th id=\"T_62fa9a40_cd0d_11eb_879c_0242ac1c0002level1_row3\" class=\"row_heading level1 row3\" >PII_URL</th>\n",
              "                        <th id=\"T_62fa9a40_cd0d_11eb_879c_0242ac1c0002level2_row3\" class=\"row_heading level2 row3\" >#1</th>\n",
              "                        <th id=\"T_62fa9a40_cd0d_11eb_879c_0242ac1c0002level3_row3\" class=\"row_heading level3 row3\" >URL</th>\n",
              "                        <td id=\"T_62fa9a40_cd0d_11eb_879c_0242ac1c0002row3_col0\" class=\"data row3 col0\" >https://t.co/pzgbam65L4</td>\n",
              "            </tr>\n",
              "    </tbody></table>"
            ],
            "text/plain": [
              "<pandas.io.formats.style.Styler at 0x7fd019024410>"
            ]
          },
          "metadata": {
            "tags": []
          }
        }
      ]
    },
    {
      "cell_type": "markdown",
      "metadata": {
        "id": "7wikvdLcerq7"
      },
      "source": [
        "## Word Cloud"
      ]
    },
    {
      "cell_type": "markdown",
      "metadata": {
        "id": "7KhDLJREp1Ev"
      },
      "source": [
        "###**Using the key Phrase extraction feature**"
      ]
    },
    {
      "cell_type": "code",
      "metadata": {
        "colab": {
          "base_uri": "https://localhost:8080/"
        },
        "id": "82BcQzq9o4J2",
        "outputId": "0c800396-abc4-4b38-ac26-66a94364bfc6"
      },
      "source": [
        "!pip install expertai-nlapi\n"
      ],
      "execution_count": null,
      "outputs": [
        {
          "output_type": "stream",
          "text": [
            "Collecting expertai-nlapi\n",
            "\u001b[?25l  Downloading https://files.pythonhosted.org/packages/6d/64/a204e931486f12e1468d1d3537b79c0cfca958bc37ac8ea610c881edc3dd/expertai_nlapi-2.3.1-py3-none-any.whl (96kB)\n",
            "\r\u001b[K     |███▍                            | 10kB 12.4MB/s eta 0:00:01\r\u001b[K     |██████▊                         | 20kB 16.6MB/s eta 0:00:01\r\u001b[K     |██████████▏                     | 30kB 10.7MB/s eta 0:00:01\r\u001b[K     |█████████████▌                  | 40kB 9.1MB/s eta 0:00:01\r\u001b[K     |█████████████████               | 51kB 5.1MB/s eta 0:00:01\r\u001b[K     |████████████████████▎           | 61kB 5.7MB/s eta 0:00:01\r\u001b[K     |███████████████████████▋        | 71kB 6.0MB/s eta 0:00:01\r\u001b[K     |███████████████████████████     | 81kB 6.4MB/s eta 0:00:01\r\u001b[K     |██████████████████████████████▍ | 92kB 6.3MB/s eta 0:00:01\r\u001b[K     |████████████████████████████████| 102kB 3.9MB/s \n",
            "\u001b[?25hRequirement already satisfied: requests in /usr/local/lib/python3.7/dist-packages (from expertai-nlapi) (2.23.0)\n",
            "Requirement already satisfied: idna<3,>=2.5 in /usr/local/lib/python3.7/dist-packages (from requests->expertai-nlapi) (2.10)\n",
            "Requirement already satisfied: certifi>=2017.4.17 in /usr/local/lib/python3.7/dist-packages (from requests->expertai-nlapi) (2020.12.5)\n",
            "Requirement already satisfied: chardet<4,>=3.0.2 in /usr/local/lib/python3.7/dist-packages (from requests->expertai-nlapi) (3.0.4)\n",
            "Requirement already satisfied: urllib3!=1.25.0,!=1.25.1,<1.26,>=1.21.1 in /usr/local/lib/python3.7/dist-packages (from requests->expertai-nlapi) (1.24.3)\n",
            "Installing collected packages: expertai-nlapi\n",
            "Successfully installed expertai-nlapi-2.3.1\n"
          ],
          "name": "stdout"
        }
      ]
    },
    {
      "cell_type": "code",
      "metadata": {
        "id": "17baSAB8erEe"
      },
      "source": [
        "import os\n",
        "os.environ[\"EAI_USERNAME\"] = 'mynenisp1703@gmail.com'\n",
        "os.environ[\"EAI_PASSWORD\"] = 'Ready@hack1'\n",
        "\n",
        "from expertai.nlapi.cloud.client import ExpertAiClient\n",
        "client = ExpertAiClient()\n",
        "language = \"en\""
      ],
      "execution_count": null,
      "outputs": []
    },
    {
      "cell_type": "code",
      "metadata": {
        "id": "u3YxuqFGo7J1"
      },
      "source": [
        "\"\"\"document = client.specific_resource_analysis(\n",
        "    body={\"document\": {\"text\": df.loc[0,'links_removed']}}, \n",
        "    params={'language': language, 'resource': 'relevants'}) \"\"\""
      ],
      "execution_count": null,
      "outputs": []
    },
    {
      "cell_type": "code",
      "metadata": {
        "colab": {
          "base_uri": "https://localhost:8080/"
        },
        "id": "MR4gETnxpeEk",
        "outputId": "94c6d7fe-4bf0-4bec-e39b-6e88f43dbc82"
      },
      "source": [
        "\"\"\"print (f'{\"LEMMA\":{20}} {\"SCORE\":{5}} ')\n",
        "       \n",
        "for mainlemma in document.main_lemmas:\n",
        "    print (f'{mainlemma.value:{20}} {mainlemma.score:{5}}') \"\"\""
      ],
      "execution_count": null,
      "outputs": [
        {
          "output_type": "stream",
          "text": [
            "LEMMA                SCORE \n",
            "lottery               52.7\n",
            "money                 47.2\n"
          ],
          "name": "stdout"
        }
      ]
    },
    {
      "cell_type": "markdown",
      "metadata": {
        "id": "Kv9A9v7uqQis"
      },
      "source": [
        "For each row"
      ]
    },
    {
      "cell_type": "code",
      "metadata": {
        "colab": {
          "base_uri": "https://localhost:8080/"
        },
        "id": "joES9C88qPyZ",
        "outputId": "9351deef-5b7e-4a7c-cbff-563ba2194dcf"
      },
      "source": [
        "All_sentences = list(df['links_removed'])\n",
        "All_sentences"
      ],
      "execution_count": null,
      "outputs": [
        {
          "output_type": "execute_result",
          "data": {
            "text/plain": [
              "['Who’s money is funding these lotteries? And do they agree with where their money is being spent?? ',\n",
              " 'Must be nice ',\n",
              " '❤️ ',\n",
              " \"This is nothing to be proud of. Imagine having to bribe people to make sure they do something so they don't die of a terrible disease and/or infect others. \",\n",
              " 'A CHURCH GIRL BE SEXY AND HIGH FASHION AT THE SAME TIME?...  Watch my latest fashion video to find out via LINK BELOW ↓  https://t.co/Vl22n8NMrI  PLEASE SUSBCRIBE and Turn on POST NOTIFICATIONS. THANKS!  #viral #trending #highfashion #Christian #YouTuber ',\n",
              " 'why is this a thing ',\n",
              " 'For me, I will hang up off the phone LOL, l thought it was a prank ',\n",
              " \"Good thing she didn't think that about the virus. 😀 \",\n",
              " \"Love it. And it's already showing results in increased vaccination. Kudos to Gov. DeWine for experimenting with this. \",\n",
              " \"Only one winner, it's cool but I would of picked ten winners every month until enough people are vaccinated. \",\n",
              " 'A vaccine lottery. Twisted. ',\n",
              " 'Good for her, spend and invest wisely. ',\n",
              " 'Absurd ',\n",
              " 'Youth is wasted on the young. ',\n",
              " ' #SaveSilwan  #IsraelApartheidstate  free Palestine 🇵🇸🇵🇸🇵🇸 https://t.co/pzgbam65L4 ']"
            ]
          },
          "metadata": {
            "tags": []
          },
          "execution_count": 42
        }
      ]
    },
    {
      "cell_type": "code",
      "metadata": {
        "id": "qOSsFd6lqbC7"
      },
      "source": [
        "for sentence in All_sentences:\n",
        "  document = client.specific_resource_analysis(\n",
        "    body={\"document\": {\"text\": sentence }}, \n",
        "    params={'language': language, 'resource': 'relevants'})\n",
        "  for mainlemma in document.main_lemmas:\n",
        "    WORDS.append(mainlemma.value)"
      ],
      "execution_count": null,
      "outputs": []
    },
    {
      "cell_type": "code",
      "metadata": {
        "colab": {
          "base_uri": "https://localhost:8080/"
        },
        "id": "GF3U-sNArdCx",
        "outputId": "7e7583d1-c8ba-481c-ad82-f009840865ce"
      },
      "source": [
        "WORDS"
      ],
      "execution_count": null,
      "outputs": [
        {
          "output_type": "execute_result",
          "data": {
            "text/plain": [
              "['lottery',\n",
              " 'money',\n",
              " 'nice',\n",
              " 'disease',\n",
              " 'people',\n",
              " 'high fashion',\n",
              " 'GIRL',\n",
              " 'fashion',\n",
              " 'video',\n",
              " 'notification',\n",
              " 'thanks',\n",
              " 'LOL',\n",
              " 'prank',\n",
              " 'phone',\n",
              " 'good thing',\n",
              " 'virus',\n",
              " 'vaccination',\n",
              " 'DeWine',\n",
              " 'kudos',\n",
              " 'result',\n",
              " 'winner',\n",
              " 'people',\n",
              " 'enough',\n",
              " 'lottery',\n",
              " 'vaccine',\n",
              " 'absurd',\n",
              " 'youth',\n",
              " 'young',\n",
              " 'Palestine']"
            ]
          },
          "metadata": {
            "tags": []
          },
          "execution_count": 45
        }
      ]
    },
    {
      "cell_type": "code",
      "metadata": {
        "id": "9Qulytapro8v"
      },
      "source": [
        "import numpy as np\n",
        "import matplotlib.pyplot as plt\n",
        "import re\n",
        "from PIL import Image\n",
        "from wordcloud import WordCloud, STOPWORDS\n",
        "from IPython.display import Image as im"
      ],
      "execution_count": null,
      "outputs": []
    },
    {
      "cell_type": "code",
      "metadata": {
        "id": "COfzoFvWr5MU"
      },
      "source": [
        "mask = np.array(Image.open('/content/twitter mask.jpg'))"
      ],
      "execution_count": null,
      "outputs": []
    },
    {
      "cell_type": "code",
      "metadata": {
        "colab": {
          "base_uri": "https://localhost:8080/"
        },
        "id": "uChFjxqQsNmw",
        "outputId": "efb6fde8-4fe9-4179-af06-5e05a43ce650"
      },
      "source": [
        "wc = WordCloud(background_color=\"white\", max_words=2000, mask=mask)\n",
        "clean_string = ','.join(WORDS)\n",
        "wc.generate(clean_string)"
      ],
      "execution_count": null,
      "outputs": [
        {
          "output_type": "execute_result",
          "data": {
            "text/plain": [
              "<wordcloud.wordcloud.WordCloud at 0x7ff491adbcd0>"
            ]
          },
          "metadata": {
            "tags": []
          },
          "execution_count": 49
        }
      ]
    },
    {
      "cell_type": "code",
      "metadata": {
        "colab": {
          "base_uri": "https://localhost:8080/",
          "height": 841
        },
        "id": "--JFzW9Asgfz",
        "outputId": "a6bdd313-4aff-4c0f-f0d8-f44b5c47c0aa"
      },
      "source": [
        "plt.figure(figsize=(20,20))\n",
        "plt.imshow(wc, interpolation='bilinear')\n",
        "plt.axis(\"off\")\n",
        "plt.show()"
      ],
      "execution_count": null,
      "outputs": [
        {
          "output_type": "display_data",
          "data": {
            "image/png": "[encoded data removed]",
            "text/plain": [
              "<Figure size 1440x1440 with 1 Axes>"
            ]
          },
          "metadata": {
            "tags": [],
            "needs_background": "light"
          }
        }
      ]
    }
  ]
}